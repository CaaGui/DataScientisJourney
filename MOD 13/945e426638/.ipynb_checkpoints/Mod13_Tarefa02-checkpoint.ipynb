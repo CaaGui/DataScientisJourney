{
 "cells": [
  {
   "cell_type": "markdown",
   "metadata": {},
   "source": [
    "# EBAC - Regressão II - regressão múltipla\n",
    "\n",
    "## Tarefa I"
   ]
  },
  {
   "cell_type": "markdown",
   "metadata": {},
   "source": [
    "#### Previsão de renda II\n",
    "\n",
    "Vamos continuar trabalhando com a base 'previsao_de_renda.csv', que é a base do seu próximo projeto. Vamos usar os recursos que vimos até aqui nesta base.\n",
    "\n",
    "|variavel|descrição|\n",
    "|-|-|\n",
    "|data_ref                | Data de referência de coleta das variáveis |\n",
    "|index                   | Código de identificação do cliente|\n",
    "|sexo                    | Sexo do cliente|\n",
    "|posse_de_veiculo        | Indica se o cliente possui veículo|\n",
    "|posse_de_imovel         | Indica se o cliente possui imóvel|\n",
    "|qtd_filhos              | Quantidade de filhos do cliente|\n",
    "|tipo_renda              | Tipo de renda do cliente|\n",
    "|educacao                | Grau de instrução do cliente|\n",
    "|estado_civil            | Estado civil do cliente|\n",
    "|tipo_residencia         | Tipo de residência do cliente (própria, alugada etc)|\n",
    "|idade                   | Idade do cliente|\n",
    "|tempo_emprego           | Tempo no emprego atual|\n",
    "|qt_pessoas_residencia   | Quantidade de pessoas que moram na residência|\n",
    "|renda                   | Renda em reais|"
   ]
  },
  {
   "cell_type": "code",
   "execution_count": 1,
   "metadata": {},
   "outputs": [],
   "source": [
    "import pandas as pd"
   ]
  },
  {
   "cell_type": "code",
   "execution_count": 178,
   "metadata": {},
   "outputs": [],
   "source": [
    "df = pd.read_csv('previsao_de_renda.csv')"
   ]
  },
  {
   "cell_type": "code",
   "execution_count": 179,
   "metadata": {},
   "outputs": [
    {
     "name": "stdout",
     "output_type": "stream",
     "text": [
      "<class 'pandas.core.frame.DataFrame'>\n",
      "RangeIndex: 15000 entries, 0 to 14999\n",
      "Data columns (total 15 columns):\n",
      " #   Column                 Non-Null Count  Dtype  \n",
      "---  ------                 --------------  -----  \n",
      " 0   Unnamed: 0             15000 non-null  int64  \n",
      " 1   data_ref               15000 non-null  object \n",
      " 2   id_cliente             15000 non-null  int64  \n",
      " 3   sexo                   15000 non-null  object \n",
      " 4   posse_de_veiculo       15000 non-null  bool   \n",
      " 5   posse_de_imovel        15000 non-null  bool   \n",
      " 6   qtd_filhos             15000 non-null  int64  \n",
      " 7   tipo_renda             15000 non-null  object \n",
      " 8   educacao               15000 non-null  object \n",
      " 9   estado_civil           15000 non-null  object \n",
      " 10  tipo_residencia        15000 non-null  object \n",
      " 11  idade                  15000 non-null  int64  \n",
      " 12  tempo_emprego          12427 non-null  float64\n",
      " 13  qt_pessoas_residencia  15000 non-null  float64\n",
      " 14  renda                  15000 non-null  float64\n",
      "dtypes: bool(2), float64(3), int64(4), object(6)\n",
      "memory usage: 1.5+ MB\n"
     ]
    }
   ],
   "source": [
    "df.info()"
   ]
  },
  {
   "cell_type": "markdown",
   "metadata": {},
   "source": [
    "1. Separe a base em treinamento e teste (25% para teste, 75% para treinamento).\n",
    "2. Rode uma regularização *ridge* com alpha = [0, 0.001, 0.005, 0.01, 0.05, 0.1] e avalie o $R^2$ na base de testes. Qual o melhor modelo?\n",
    "3. Faça o mesmo que no passo 2, com uma regressão *LASSO*. Qual método chega a um melhor resultado?\n",
    "4. Rode um modelo *stepwise*. Avalie o $R^2$ na vase de testes. Qual o melhor resultado?\n",
    "5. Compare os parâmetros e avalie eventuais diferenças. Qual modelo você acha o melhor de todos?\n",
    "6. Partindo dos modelos que você ajustou, tente melhorar o $R^2$ na base de testes. Use a criatividade, veja se consegue inserir alguma transformação ou combinação de variáveis.\n",
    "7. Ajuste uma árvore de regressão e veja se consegue um $R^2$ melhor com ela."
   ]
  },
  {
   "cell_type": "code",
   "execution_count": 291,
   "metadata": {},
   "outputs": [],
   "source": [
    "import numpy as np\n",
    "\n",
    "import statsmodels.formula.api as smf\n",
    "import statsmodels.api as sm\n",
    "import patsy\n",
    "\n",
    "from sklearn import tree\n",
    "from sklearn.tree import DecisionTreeRegressor\n",
    "from sklearn.metrics import mean_squared_error\n",
    "from sklearn.model_selection import train_test_split\n",
    "\n",
    "\n",
    "import matplotlib.pyplot as plt\n",
    "import seaborn as sns\n"
   ]
  },
  {
   "cell_type": "code",
   "execution_count": 221,
   "metadata": {},
   "outputs": [],
   "source": [
    "df_linha = df.iloc[:,3:].copy()\n",
    "\n",
    "df_linha = pd.get_dummies(df_linha)\n",
    "df_linha.columns = [c.replace(' ','_') for c in df_linha.columns]\n",
    "df_linha = df_linha.astype('float64')\n",
    "df_linha.fillna(0, inplace=True)\n",
    "\n",
    "\n",
    "X = df_linha.iloc[:,:-1].copy()\n",
    "y = df_linha.iloc[:,-1].copy()\n",
    "\n",
    "\n",
    "n = int(.75*1500)\n",
    "\n",
    "df_linha_train = df_linha[:-n]\n",
    "df_linha_test = df_linha[-n:]\n",
    "\n",
    "#X_train , y_train = X[:-n] , y[:-n]\n",
    "#X_test , y_test = X[-n:] , y[-n:]"
   ]
  },
  {
   "cell_type": "code",
   "execution_count": 223,
   "metadata": {},
   "outputs": [],
   "source": [
    "y_train, X_train = patsy.dmatrices('renda ~ posse_de_veiculo + posse_de_imovel + qtd_filhos + idade +\\\n",
    "                            tempo_emprego + qt_pessoas_residencia + sexo_F + sexo_M + tipo_renda_Assalariado +\\\n",
    "                            tipo_renda_Bolsista + tipo_renda_Empresário + tipo_renda_Pensionista +\\\n",
    "                            tipo_renda_Servidor_público + educacao_Primário + educacao_Pós_graduação +\\\n",
    "                            educacao_Secundário + educacao_Superior_completo + educacao_Superior_incompleto +\\\n",
    "                            estado_civil_Casado + estado_civil_Separado + estado_civil_Solteiro + estado_civil_União +\\\n",
    "                            estado_civil_Viúvo + tipo_residencia_Aluguel + tipo_residencia_Casa + tipo_residencia_Com_os_pais +\\\n",
    "                            tipo_residencia_Comunitário + tipo_residencia_Estúdio', \n",
    "                                   data = df_linha_train)"
   ]
  },
  {
   "cell_type": "code",
   "execution_count": 150,
   "metadata": {},
   "outputs": [],
   "source": [
    "alphas = [0, 0.001, 0.005, 0.01, 0.05, 0.1]"
   ]
  },
  {
   "cell_type": "markdown",
   "metadata": {},
   "source": [
    "# Ex. 2"
   ]
  },
  {
   "cell_type": "code",
   "execution_count": 191,
   "metadata": {},
   "outputs": [
    {
     "data": {
      "text/plain": [
       "[0.26369485613025634,\n",
       " 0.26369485613025634,\n",
       " 0.26369485613025634,\n",
       " 0.26369485613025634,\n",
       " 0.26369485613025634,\n",
       " 0.26369485613025634]"
      ]
     },
     "execution_count": 191,
     "metadata": {},
     "output_type": "execute_result"
    }
   ],
   "source": [
    "r_score=[]\n",
    "\n",
    "for alpha in alphas:\n",
    "\n",
    "    md = sm.OLS(y_train, X_train)\n",
    "\n",
    "    reg = md.fit_regularized(method = 'elastic_net',\n",
    "                             refit = True,\n",
    "                             L1_wt = 0.001,\n",
    "                             alpha = alpha)\n",
    "\n",
    "    r_score.append(reg.rsquared)\n",
    "\n",
    "r_score"
   ]
  },
  {
   "cell_type": "markdown",
   "metadata": {},
   "source": [
    "# Ex. 3"
   ]
  },
  {
   "cell_type": "code",
   "execution_count": 192,
   "metadata": {},
   "outputs": [
    {
     "data": {
      "text/plain": [
       "[0.26369485613025634,\n",
       " 0.26369485613025634,\n",
       " 0.26369485613025634,\n",
       " 0.26369485613025634,\n",
       " 0.26369485613025634,\n",
       " 0.26369485613025634]"
      ]
     },
     "execution_count": 192,
     "metadata": {},
     "output_type": "execute_result"
    }
   ],
   "source": [
    "r_score=[]\n",
    "\n",
    "for alpha in alphas:\n",
    "    \n",
    "    md = sm.OLS(y_train, X_train)\n",
    "\n",
    "    reg = md.fit_regularized(method = 'elastic_net',\n",
    "                             refit = True,\n",
    "                             L1_wt = 1,\n",
    "                             alpha = alpha)\n",
    "\n",
    "    r_score.append(reg.rsquared)\n",
    "\n",
    "r_score"
   ]
  },
  {
   "cell_type": "markdown",
   "metadata": {},
   "source": [
    "\n",
    "O MÉTODO LASSO E RIDGE APRESENTAM OS MESMOS VALORES DE R2 "
   ]
  },
  {
   "cell_type": "markdown",
   "metadata": {},
   "source": [
    "# Ex. 4"
   ]
  },
  {
   "cell_type": "code",
   "execution_count": 224,
   "metadata": {},
   "outputs": [],
   "source": [
    "X_train, X_test, y_train, y_test = train_test_split(X,  y, test_size= 0.25 )"
   ]
  },
  {
   "cell_type": "code",
   "execution_count": 225,
   "metadata": {},
   "outputs": [],
   "source": [
    "def stepwise_selection(X, y, \n",
    "                       initial_list=[], \n",
    "                       threshold_in=0.05, \n",
    "                       threshold_out = 0.05, \n",
    "                       verbose=True):\n",
    "    \"\"\" Perform a forward-backward feature selection \n",
    "    based on p-value from statsmodels.api.OLS\n",
    "    Arguments:\n",
    "        X - pandas.DataFrame with candidate features\n",
    "        y - list-like with the target\n",
    "        initial_list - list of features to start with (column names of X)\n",
    "        threshold_in - include a feature if its p-value < threshold_in\n",
    "        threshold_out - exclude a feature if its p-value > threshold_out\n",
    "        verbose - whether to print the sequence of inclusions and exclusions\n",
    "    Returns: list of selected features \n",
    "    Always set threshold_in < threshold_out to avoid infinite looping.\n",
    "    See https://en.wikipedia.org/wiki/Stepwise_regression for the details\n",
    "    \"\"\"\n",
    "    included = list(initial_list)\n",
    "    while True:\n",
    "        changed=False\n",
    "        # forward step\n",
    "        excluded = list(set(X.columns)-set(included))\n",
    "        new_pval = pd.Series(index=excluded, dtype=np.dtype('float64'))\n",
    "        for new_column in excluded:\n",
    "            model = sm.OLS(y, sm.add_constant(pd.DataFrame(X[included+[new_column]]))).fit()\n",
    "            new_pval[new_column] = model.pvalues[new_column]\n",
    "        best_pval = new_pval.min()\n",
    "        if best_pval < threshold_in:\n",
    "            best_feature = new_pval.index[new_pval.argmin()]\n",
    "            included.append(best_feature)\n",
    "            changed=True\n",
    "            if verbose:\n",
    "                 print('Add  {:30} with p-value {:.6}'.format(best_feature, best_pval))\n",
    "\n",
    "        # backward step\n",
    "        print(\"#############\")\n",
    "        print(included)\n",
    "        model = sm.OLS(y, sm.add_constant(pd.DataFrame(X[included]))).fit()\n",
    "        # use all coefs except intercept\n",
    "        pvalues = model.pvalues.iloc[1:]\n",
    "        worst_pval = pvalues.max() # null if pvalues is empty\n",
    "        if worst_pval > threshold_out:\n",
    "            changed=True\n",
    "            worst_feature = pvalues.argmax()\n",
    "            included.remove(worst_feature)\n",
    "            if verbose:\n",
    "                print('Drop {:30} with p-value {:.6}'.format(worst_feature, worst_pval))\n",
    "        if not changed:\n",
    "            break\n",
    "    return included"
   ]
  },
  {
   "cell_type": "code",
   "execution_count": 226,
   "metadata": {
    "scrolled": true
   },
   "outputs": [
    {
     "name": "stdout",
     "output_type": "stream",
     "text": [
      "Add  tipo_residencia_Casa           with p-value 0.0\n",
      "#############\n",
      "['tipo_residencia_Casa']\n",
      "Add  tipo_residencia_Com_os_pais    with p-value 0.0\n",
      "#############\n",
      "['tipo_residencia_Casa', 'tipo_residencia_Com_os_pais']\n",
      "Add  tipo_residencia_Aluguel        with p-value 0.0\n",
      "#############\n",
      "['tipo_residencia_Casa', 'tipo_residencia_Com_os_pais', 'tipo_residencia_Aluguel']\n",
      "Add  tipo_residencia_Estúdio        with p-value 0.0\n",
      "#############\n",
      "['tipo_residencia_Casa', 'tipo_residencia_Com_os_pais', 'tipo_residencia_Aluguel', 'tipo_residencia_Estúdio']\n",
      "Add  tipo_residencia_Comunitário    with p-value 0.0\n",
      "#############\n",
      "['tipo_residencia_Casa', 'tipo_residencia_Com_os_pais', 'tipo_residencia_Aluguel', 'tipo_residencia_Estúdio', 'tipo_residencia_Comunitário']\n",
      "Add  tempo_emprego                  with p-value 0.0\n",
      "#############\n",
      "['tipo_residencia_Casa', 'tipo_residencia_Com_os_pais', 'tipo_residencia_Aluguel', 'tipo_residencia_Estúdio', 'tipo_residencia_Comunitário', 'tempo_emprego']\n",
      "Add  renda                          with p-value 0.0\n",
      "#############\n",
      "['tipo_residencia_Casa', 'tipo_residencia_Com_os_pais', 'tipo_residencia_Aluguel', 'tipo_residencia_Estúdio', 'tipo_residencia_Comunitário', 'tempo_emprego', 'renda']\n",
      "#############\n",
      "['tipo_residencia_Casa', 'tipo_residencia_Com_os_pais', 'tipo_residencia_Aluguel', 'tipo_residencia_Estúdio', 'tipo_residencia_Comunitário', 'tempo_emprego', 'renda']\n",
      "resulting features:\n",
      "['tipo_residencia_Casa', 'tipo_residencia_Com_os_pais', 'tipo_residencia_Aluguel', 'tipo_residencia_Estúdio', 'tipo_residencia_Comunitário', 'tempo_emprego', 'renda']\n"
     ]
    }
   ],
   "source": [
    "variaveis = stepwise_selection(X, y)\n",
    "\n",
    "print('resulting features:')\n",
    "print(variaveis)"
   ]
  },
  {
   "cell_type": "code",
   "execution_count": 253,
   "metadata": {
    "scrolled": true
   },
   "outputs": [
    {
     "data": {
      "text/html": [
       "<table class=\"simpletable\">\n",
       "<caption>OLS Regression Results</caption>\n",
       "<tr>\n",
       "  <th>Dep. Variable:</th>          <td>renda</td>      <th>  R-squared:         </th>  <td>   0.152</td>  \n",
       "</tr>\n",
       "<tr>\n",
       "  <th>Model:</th>                   <td>OLS</td>       <th>  Adj. R-squared:    </th>  <td>   0.151</td>  \n",
       "</tr>\n",
       "<tr>\n",
       "  <th>Method:</th>             <td>Least Squares</td>  <th>  F-statistic:       </th>  <td>   413.5</td>  \n",
       "</tr>\n",
       "<tr>\n",
       "  <th>Date:</th>             <td>Sat, 01 Apr 2023</td> <th>  Prob (F-statistic):</th>   <td>  0.00</td>   \n",
       "</tr>\n",
       "<tr>\n",
       "  <th>Time:</th>                 <td>18:21:06</td>     <th>  Log-Likelihood:    </th> <td>-1.4372e+05</td>\n",
       "</tr>\n",
       "<tr>\n",
       "  <th>No. Observations:</th>      <td> 13875</td>      <th>  AIC:               </th>  <td>2.875e+05</td> \n",
       "</tr>\n",
       "<tr>\n",
       "  <th>Df Residuals:</th>          <td> 13868</td>      <th>  BIC:               </th>  <td>2.875e+05</td> \n",
       "</tr>\n",
       "<tr>\n",
       "  <th>Df Model:</th>              <td>     6</td>      <th>                     </th>      <td> </td>     \n",
       "</tr>\n",
       "<tr>\n",
       "  <th>Covariance Type:</th>      <td>nonrobust</td>    <th>                     </th>      <td> </td>     \n",
       "</tr>\n",
       "</table>\n",
       "<table class=\"simpletable\">\n",
       "<tr>\n",
       "               <td></td>                  <th>coef</th>     <th>std err</th>      <th>t</th>      <th>P>|t|</th>  <th>[0.025</th>    <th>0.975]</th>  \n",
       "</tr>\n",
       "<tr>\n",
       "  <th>Intercept</th>                   <td> 3020.5995</td> <td>  379.747</td> <td>    7.954</td> <td> 0.000</td> <td> 2276.244</td> <td> 3764.955</td>\n",
       "</tr>\n",
       "<tr>\n",
       "  <th>tipo_residencia_Casa</th>        <td> -374.4180</td> <td>  380.610</td> <td>   -0.984</td> <td> 0.325</td> <td>-1120.465</td> <td>  371.629</td>\n",
       "</tr>\n",
       "<tr>\n",
       "  <th>tipo_residencia_Com_os_pais</th> <td> -696.9410</td> <td>  485.626</td> <td>   -1.435</td> <td> 0.151</td> <td>-1648.834</td> <td>  254.952</td>\n",
       "</tr>\n",
       "<tr>\n",
       "  <th>tipo_residencia_Aluguel</th>     <td>  652.3866</td> <td>  677.081</td> <td>    0.964</td> <td> 0.335</td> <td> -674.784</td> <td> 1979.557</td>\n",
       "</tr>\n",
       "<tr>\n",
       "  <th>tipo_residencia_Estúdio</th>     <td> 2158.7360</td> <td>  936.513</td> <td>    2.305</td> <td> 0.021</td> <td>  323.043</td> <td> 3994.429</td>\n",
       "</tr>\n",
       "<tr>\n",
       "  <th>tipo_residencia_Comunitário</th> <td>-1043.7371</td> <td> 1046.094</td> <td>   -0.998</td> <td> 0.318</td> <td>-3094.222</td> <td> 1006.748</td>\n",
       "</tr>\n",
       "<tr>\n",
       "  <th>tempo_emprego</th>               <td>  473.9569</td> <td>    9.560</td> <td>   49.575</td> <td> 0.000</td> <td>  455.217</td> <td>  492.696</td>\n",
       "</tr>\n",
       "</table>\n",
       "<table class=\"simpletable\">\n",
       "<tr>\n",
       "  <th>Omnibus:</th>       <td>19841.706</td> <th>  Durbin-Watson:     </th>   <td>   2.024</td>  \n",
       "</tr>\n",
       "<tr>\n",
       "  <th>Prob(Omnibus):</th>  <td> 0.000</td>   <th>  Jarque-Bera (JB):  </th> <td>11890081.484</td>\n",
       "</tr>\n",
       "<tr>\n",
       "  <th>Skew:</th>           <td> 8.298</td>   <th>  Prob(JB):          </th>   <td>    0.00</td>  \n",
       "</tr>\n",
       "<tr>\n",
       "  <th>Kurtosis:</th>       <td>145.447</td>  <th>  Cond. No.          </th>   <td>    170.</td>  \n",
       "</tr>\n",
       "</table><br/><br/>Notes:<br/>[1] Standard Errors assume that the covariance matrix of the errors is correctly specified."
      ],
      "text/plain": [
       "<class 'statsmodels.iolib.summary.Summary'>\n",
       "\"\"\"\n",
       "                            OLS Regression Results                            \n",
       "==============================================================================\n",
       "Dep. Variable:                  renda   R-squared:                       0.152\n",
       "Model:                            OLS   Adj. R-squared:                  0.151\n",
       "Method:                 Least Squares   F-statistic:                     413.5\n",
       "Date:                Sat, 01 Apr 2023   Prob (F-statistic):               0.00\n",
       "Time:                        18:21:06   Log-Likelihood:            -1.4372e+05\n",
       "No. Observations:               13875   AIC:                         2.875e+05\n",
       "Df Residuals:                   13868   BIC:                         2.875e+05\n",
       "Df Model:                           6                                         \n",
       "Covariance Type:            nonrobust                                         \n",
       "===============================================================================================\n",
       "                                  coef    std err          t      P>|t|      [0.025      0.975]\n",
       "-----------------------------------------------------------------------------------------------\n",
       "Intercept                    3020.5995    379.747      7.954      0.000    2276.244    3764.955\n",
       "tipo_residencia_Casa         -374.4180    380.610     -0.984      0.325   -1120.465     371.629\n",
       "tipo_residencia_Com_os_pais  -696.9410    485.626     -1.435      0.151   -1648.834     254.952\n",
       "tipo_residencia_Aluguel       652.3866    677.081      0.964      0.335    -674.784    1979.557\n",
       "tipo_residencia_Estúdio      2158.7360    936.513      2.305      0.021     323.043    3994.429\n",
       "tipo_residencia_Comunitário -1043.7371   1046.094     -0.998      0.318   -3094.222    1006.748\n",
       "tempo_emprego                 473.9569      9.560     49.575      0.000     455.217     492.696\n",
       "==============================================================================\n",
       "Omnibus:                    19841.706   Durbin-Watson:                   2.024\n",
       "Prob(Omnibus):                  0.000   Jarque-Bera (JB):         11890081.484\n",
       "Skew:                           8.298   Prob(JB):                         0.00\n",
       "Kurtosis:                     145.447   Cond. No.                         170.\n",
       "==============================================================================\n",
       "\n",
       "Notes:\n",
       "[1] Standard Errors assume that the covariance matrix of the errors is correctly specified.\n",
       "\"\"\""
      ]
     },
     "execution_count": 253,
     "metadata": {},
     "output_type": "execute_result"
    }
   ],
   "source": [
    "reg_2 = smf.ols('renda ~ tipo_residencia_Casa + tipo_residencia_Com_os_pais +\\\n",
    "               tipo_residencia_Aluguel + tipo_residencia_Estúdio + tipo_residencia_Comunitário +\\\n",
    "               tempo_emprego', data = df_linha_train).fit()\n",
    "\n",
    "reg_2.summary()"
   ]
  },
  {
   "cell_type": "markdown",
   "metadata": {},
   "source": [
    "# Ex. 5"
   ]
  },
  {
   "cell_type": "markdown",
   "metadata": {},
   "source": [
    "Os modelos do exercício 3 parecem ser melhores por apresentarem um R2 maior"
   ]
  },
  {
   "cell_type": "markdown",
   "metadata": {},
   "source": [
    "# Ex. 6"
   ]
  },
  {
   "cell_type": "code",
   "execution_count": null,
   "metadata": {},
   "outputs": [],
   "source": [
    "#y_train, X_train = patsy.dmatrices('np.power(renda,.5) ~ posse_de_imovel + idade + tempo_emprego +\\\n",
    "#                                    sexo_M + tipo_renda_Pensionista +\\\n",
    "#                                    estado_civil_Casado', data = df_linha_train)"
   ]
  },
  {
   "cell_type": "code",
   "execution_count": 295,
   "metadata": {
    "scrolled": true
   },
   "outputs": [
    {
     "data": {
      "text/html": [
       "<table class=\"simpletable\">\n",
       "<caption>OLS Regression Results</caption>\n",
       "<tr>\n",
       "  <th>Dep. Variable:</th>      <td>np.log(renda)</td>  <th>  R-squared:         </th> <td>   0.339</td> \n",
       "</tr>\n",
       "<tr>\n",
       "  <th>Model:</th>                   <td>OLS</td>       <th>  Adj. R-squared:    </th> <td>   0.339</td> \n",
       "</tr>\n",
       "<tr>\n",
       "  <th>Method:</th>             <td>Least Squares</td>  <th>  F-statistic:       </th> <td>   1424.</td> \n",
       "</tr>\n",
       "<tr>\n",
       "  <th>Date:</th>             <td>Sat, 01 Apr 2023</td> <th>  Prob (F-statistic):</th>  <td>  0.00</td>  \n",
       "</tr>\n",
       "<tr>\n",
       "  <th>Time:</th>                 <td>18:37:52</td>     <th>  Log-Likelihood:    </th> <td> -15110.</td> \n",
       "</tr>\n",
       "<tr>\n",
       "  <th>No. Observations:</th>      <td> 13875</td>      <th>  AIC:               </th> <td>3.023e+04</td>\n",
       "</tr>\n",
       "<tr>\n",
       "  <th>Df Residuals:</th>          <td> 13869</td>      <th>  BIC:               </th> <td>3.028e+04</td>\n",
       "</tr>\n",
       "<tr>\n",
       "  <th>Df Model:</th>              <td>     5</td>      <th>                     </th>     <td> </td>    \n",
       "</tr>\n",
       "<tr>\n",
       "  <th>Covariance Type:</th>      <td>nonrobust</td>    <th>                     </th>     <td> </td>    \n",
       "</tr>\n",
       "</table>\n",
       "<table class=\"simpletable\">\n",
       "<tr>\n",
       "             <td></td>               <th>coef</th>     <th>std err</th>      <th>t</th>      <th>P>|t|</th>  <th>[0.025</th>    <th>0.975]</th>  \n",
       "</tr>\n",
       "<tr>\n",
       "  <th>Intercept</th>              <td>    7.2880</td> <td>    0.031</td> <td>  235.223</td> <td> 0.000</td> <td>    7.227</td> <td>    7.349</td>\n",
       "</tr>\n",
       "<tr>\n",
       "  <th>posse_de_imovel</th>        <td>    0.0909</td> <td>    0.013</td> <td>    6.900</td> <td> 0.000</td> <td>    0.065</td> <td>    0.117</td>\n",
       "</tr>\n",
       "<tr>\n",
       "  <th>idade</th>                  <td>    0.0039</td> <td>    0.001</td> <td>    5.241</td> <td> 0.000</td> <td>    0.002</td> <td>    0.005</td>\n",
       "</tr>\n",
       "<tr>\n",
       "  <th>tempo_emprego</th>          <td>    0.0612</td> <td>    0.001</td> <td>   58.213</td> <td> 0.000</td> <td>    0.059</td> <td>    0.063</td>\n",
       "</tr>\n",
       "<tr>\n",
       "  <th>sexo_M</th>                 <td>    0.8043</td> <td>    0.013</td> <td>   59.799</td> <td> 0.000</td> <td>    0.778</td> <td>    0.831</td>\n",
       "</tr>\n",
       "<tr>\n",
       "  <th>tipo_renda_Pensionista</th> <td>    0.2277</td> <td>    0.024</td> <td>    9.411</td> <td> 0.000</td> <td>    0.180</td> <td>    0.275</td>\n",
       "</tr>\n",
       "</table>\n",
       "<table class=\"simpletable\">\n",
       "<tr>\n",
       "  <th>Omnibus:</th>       <td> 1.092</td> <th>  Durbin-Watson:     </th> <td>   2.026</td>\n",
       "</tr>\n",
       "<tr>\n",
       "  <th>Prob(Omnibus):</th> <td> 0.579</td> <th>  Jarque-Bera (JB):  </th> <td>   1.064</td>\n",
       "</tr>\n",
       "<tr>\n",
       "  <th>Skew:</th>          <td> 0.011</td> <th>  Prob(JB):          </th> <td>   0.588</td>\n",
       "</tr>\n",
       "<tr>\n",
       "  <th>Kurtosis:</th>      <td> 3.037</td> <th>  Cond. No.          </th> <td>    254.</td>\n",
       "</tr>\n",
       "</table><br/><br/>Notes:<br/>[1] Standard Errors assume that the covariance matrix of the errors is correctly specified."
      ],
      "text/plain": [
       "<class 'statsmodels.iolib.summary.Summary'>\n",
       "\"\"\"\n",
       "                            OLS Regression Results                            \n",
       "==============================================================================\n",
       "Dep. Variable:          np.log(renda)   R-squared:                       0.339\n",
       "Model:                            OLS   Adj. R-squared:                  0.339\n",
       "Method:                 Least Squares   F-statistic:                     1424.\n",
       "Date:                Sat, 01 Apr 2023   Prob (F-statistic):               0.00\n",
       "Time:                        18:37:52   Log-Likelihood:                -15110.\n",
       "No. Observations:               13875   AIC:                         3.023e+04\n",
       "Df Residuals:                   13869   BIC:                         3.028e+04\n",
       "Df Model:                           5                                         \n",
       "Covariance Type:            nonrobust                                         \n",
       "==========================================================================================\n",
       "                             coef    std err          t      P>|t|      [0.025      0.975]\n",
       "------------------------------------------------------------------------------------------\n",
       "Intercept                  7.2880      0.031    235.223      0.000       7.227       7.349\n",
       "posse_de_imovel            0.0909      0.013      6.900      0.000       0.065       0.117\n",
       "idade                      0.0039      0.001      5.241      0.000       0.002       0.005\n",
       "tempo_emprego              0.0612      0.001     58.213      0.000       0.059       0.063\n",
       "sexo_M                     0.8043      0.013     59.799      0.000       0.778       0.831\n",
       "tipo_renda_Pensionista     0.2277      0.024      9.411      0.000       0.180       0.275\n",
       "==============================================================================\n",
       "Omnibus:                        1.092   Durbin-Watson:                   2.026\n",
       "Prob(Omnibus):                  0.579   Jarque-Bera (JB):                1.064\n",
       "Skew:                           0.011   Prob(JB):                        0.588\n",
       "Kurtosis:                       3.037   Cond. No.                         254.\n",
       "==============================================================================\n",
       "\n",
       "Notes:\n",
       "[1] Standard Errors assume that the covariance matrix of the errors is correctly specified.\n",
       "\"\"\""
      ]
     },
     "execution_count": 295,
     "metadata": {},
     "output_type": "execute_result"
    }
   ],
   "source": [
    "y_train, X_train = patsy.dmatrices('np.log(renda) ~ posse_de_imovel + idade + tempo_emprego +\\\n",
    "                                    sexo_M + tipo_renda_Pensionista', data = df_linha_train)\n",
    "\n",
    "reg_1 = sm.OLS(y_train, X_train).fit()\n",
    "\n",
    "reg_1.summary()"
   ]
  },
  {
   "cell_type": "markdown",
   "metadata": {},
   "source": [
    "# Ex. 7"
   ]
  },
  {
   "cell_type": "code",
   "execution_count": 296,
   "metadata": {},
   "outputs": [],
   "source": [
    "X_train, X_test, y_train, y_test = train_test_split(X,  y, test_size= 0.25 )"
   ]
  },
  {
   "cell_type": "code",
   "execution_count": 305,
   "metadata": {},
   "outputs": [
    {
     "data": {
      "text/plain": [
       "1.0"
      ]
     },
     "execution_count": 305,
     "metadata": {},
     "output_type": "execute_result"
    }
   ],
   "source": [
    "reg_tree = DecisionTreeRegressor()\n",
    "reg_tree = reg_tree.fit(X_train,y_train)\n",
    "\n",
    "reg_tree..score(X_test,y_test)"
   ]
  },
  {
   "cell_type": "code",
   "execution_count": 308,
   "metadata": {},
   "outputs": [
    {
     "data": {
      "text/plain": [
       "0.0"
      ]
     },
     "execution_count": 308,
     "metadata": {},
     "output_type": "execute_result"
    }
   ],
   "source": [
    "mean_squared_error(y_test,reg_tree.predict(X_test))"
   ]
  },
  {
   "cell_type": "code",
   "execution_count": null,
   "metadata": {},
   "outputs": [],
   "source": []
  },
  {
   "cell_type": "code",
   "execution_count": null,
   "metadata": {},
   "outputs": [],
   "source": []
  },
  {
   "cell_type": "code",
   "execution_count": null,
   "metadata": {},
   "outputs": [],
   "source": []
  },
  {
   "cell_type": "code",
   "execution_count": null,
   "metadata": {},
   "outputs": [],
   "source": []
  }
 ],
 "metadata": {
  "kernelspec": {
   "display_name": "Python 3 (ipykernel)",
   "language": "python",
   "name": "python3"
  },
  "language_info": {
   "codemirror_mode": {
    "name": "ipython",
    "version": 3
   },
   "file_extension": ".py",
   "mimetype": "text/x-python",
   "name": "python",
   "nbconvert_exporter": "python",
   "pygments_lexer": "ipython3",
   "version": "3.9.13"
  }
 },
 "nbformat": 4,
 "nbformat_minor": 4
}
