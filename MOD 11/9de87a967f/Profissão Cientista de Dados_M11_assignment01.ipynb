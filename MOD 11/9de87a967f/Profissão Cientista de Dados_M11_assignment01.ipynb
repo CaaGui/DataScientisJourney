{
 "cells": [
  {
   "cell_type": "markdown",
   "metadata": {},
   "source": [
    "# Árvores de regressão - exercícios 01\n",
    "\n",
    "Nesta bateria de exercícios, vamos botar em prática o que aprendemos com a base de dados imobiliários de Boston, que pode ser baixada do módulo ```datasets``` do scikitlearn. Essa base de dados possui uma linha por cidade, o objetivo é prever, ou fornecer uma estimativa de ```MEDV```, ou o valor mediano de casas ocupadas pelo dono, dadas as demais variáveis usadas como explicativas.\n",
    "\n",
    "A descrição das variáveis está abaixo:"
   ]
  },
  {
   "cell_type": "markdown",
   "metadata": {},
   "source": [
    "| Variavel | Descrição|\n",
    "|-|-|\n",
    "|CRIM| taxa de crimes per-cápita da cidade | \n",
    "|ZN| proporção de terrenos residenciais zoneados para lotes com mais de 25.000 pés quadrados. |\n",
    "|INDUS| proporção de acres de negócios não varejistas por cidade |\n",
    "|CHAS |vale 1 se o terreno faz fronteira com o *Charles River*; 0 caso contrário |\n",
    "|NOX| Concentração de óxido nítrico (em partes por 10 milhões) |\n",
    "|RM| número médio de quartos por habitação |\n",
    "|AGE| proporção de unidades ocupadas pelo proprietário construídas antes de 1940 |\n",
    "|DIS| distâncias ponderadas até cinco centros de empregos de Boston |\n",
    "|RAD| índice de acessibilidade a rodovias radiais |\n",
    "|TAX| taxa de imposto sobre a propriedade de valor total por \\\\$10,000 |\n",
    "|PTRATIO| razão pupilo-professor da cidade |\n",
    "|B| $ 1000 (Bk - 0,63) ^ 2 $ onde Bk é a proporção de negros por cidade |\n",
    "|LSTAT| \\%status inferior da população |\n",
    "|MEDV| (variável resposta) Valor mediano das casas ocupadas pelo proprietário em US $ 1.000|"
   ]
  },
  {
   "cell_type": "code",
   "execution_count": 56,
   "metadata": {},
   "outputs": [
    {
     "name": "stderr",
     "output_type": "stream",
     "text": [
      "C:\\Users\\carlo\\anaconda3\\lib\\site-packages\\sklearn\\utils\\deprecation.py:87: FutureWarning: Function load_boston is deprecated; `load_boston` is deprecated in 1.0 and will be removed in 1.2.\n",
      "\n",
      "    The Boston housing prices dataset has an ethical problem. You can refer to\n",
      "    the documentation of this function for further details.\n",
      "\n",
      "    The scikit-learn maintainers therefore strongly discourage the use of this\n",
      "    dataset unless the purpose of the code is to study and educate about\n",
      "    ethical issues in data science and machine learning.\n",
      "\n",
      "    In this special case, you can fetch the dataset from the original\n",
      "    source::\n",
      "\n",
      "        import pandas as pd\n",
      "        import numpy as np\n",
      "\n",
      "\n",
      "        data_url = \"http://lib.stat.cmu.edu/datasets/boston\"\n",
      "        raw_df = pd.read_csv(data_url, sep=\"\\s+\", skiprows=22, header=None)\n",
      "        data = np.hstack([raw_df.values[::2, :], raw_df.values[1::2, :2]])\n",
      "        target = raw_df.values[1::2, 2]\n",
      "\n",
      "    Alternative datasets include the California housing dataset (i.e.\n",
      "    :func:`~sklearn.datasets.fetch_california_housing`) and the Ames housing\n",
      "    dataset. You can load the datasets as follows::\n",
      "\n",
      "        from sklearn.datasets import fetch_california_housing\n",
      "        housing = fetch_california_housing()\n",
      "\n",
      "    for the California housing dataset and::\n",
      "\n",
      "        from sklearn.datasets import fetch_openml\n",
      "        housing = fetch_openml(name=\"house_prices\", as_frame=True)\n",
      "\n",
      "    for the Ames housing dataset.\n",
      "    \n",
      "  warnings.warn(msg, category=FutureWarning)\n"
     ]
    }
   ],
   "source": [
    "import pandas as pd\n",
    "\n",
    "import seaborn as sns\n",
    "\n",
    "from sklearn import datasets\n",
    "from sklearn.tree import DecisionTreeRegressor\n",
    "from sklearn import tree\n",
    "from sklearn.model_selection import train_test_split\n",
    "\n",
    "\n",
    "boston = datasets.load_boston()\n",
    "X = pd.DataFrame(boston.data, columns = boston.feature_names)\n",
    "y = pd.DataFrame(boston.target, columns = ['MEDV'])"
   ]
  },
  {
   "cell_type": "code",
   "execution_count": 2,
   "metadata": {},
   "outputs": [
    {
     "data": {
      "text/html": [
       "<div>\n",
       "<style scoped>\n",
       "    .dataframe tbody tr th:only-of-type {\n",
       "        vertical-align: middle;\n",
       "    }\n",
       "\n",
       "    .dataframe tbody tr th {\n",
       "        vertical-align: top;\n",
       "    }\n",
       "\n",
       "    .dataframe thead th {\n",
       "        text-align: right;\n",
       "    }\n",
       "</style>\n",
       "<table border=\"1\" class=\"dataframe\">\n",
       "  <thead>\n",
       "    <tr style=\"text-align: right;\">\n",
       "      <th></th>\n",
       "      <th>CRIM</th>\n",
       "      <th>ZN</th>\n",
       "      <th>INDUS</th>\n",
       "      <th>CHAS</th>\n",
       "      <th>NOX</th>\n",
       "      <th>RM</th>\n",
       "      <th>AGE</th>\n",
       "      <th>DIS</th>\n",
       "      <th>RAD</th>\n",
       "      <th>TAX</th>\n",
       "      <th>PTRATIO</th>\n",
       "      <th>B</th>\n",
       "      <th>LSTAT</th>\n",
       "    </tr>\n",
       "  </thead>\n",
       "  <tbody>\n",
       "    <tr>\n",
       "      <th>0</th>\n",
       "      <td>0.00632</td>\n",
       "      <td>18.0</td>\n",
       "      <td>2.31</td>\n",
       "      <td>0.0</td>\n",
       "      <td>0.538</td>\n",
       "      <td>6.575</td>\n",
       "      <td>65.2</td>\n",
       "      <td>4.0900</td>\n",
       "      <td>1.0</td>\n",
       "      <td>296.0</td>\n",
       "      <td>15.3</td>\n",
       "      <td>396.90</td>\n",
       "      <td>4.98</td>\n",
       "    </tr>\n",
       "    <tr>\n",
       "      <th>1</th>\n",
       "      <td>0.02731</td>\n",
       "      <td>0.0</td>\n",
       "      <td>7.07</td>\n",
       "      <td>0.0</td>\n",
       "      <td>0.469</td>\n",
       "      <td>6.421</td>\n",
       "      <td>78.9</td>\n",
       "      <td>4.9671</td>\n",
       "      <td>2.0</td>\n",
       "      <td>242.0</td>\n",
       "      <td>17.8</td>\n",
       "      <td>396.90</td>\n",
       "      <td>9.14</td>\n",
       "    </tr>\n",
       "    <tr>\n",
       "      <th>2</th>\n",
       "      <td>0.02729</td>\n",
       "      <td>0.0</td>\n",
       "      <td>7.07</td>\n",
       "      <td>0.0</td>\n",
       "      <td>0.469</td>\n",
       "      <td>7.185</td>\n",
       "      <td>61.1</td>\n",
       "      <td>4.9671</td>\n",
       "      <td>2.0</td>\n",
       "      <td>242.0</td>\n",
       "      <td>17.8</td>\n",
       "      <td>392.83</td>\n",
       "      <td>4.03</td>\n",
       "    </tr>\n",
       "    <tr>\n",
       "      <th>3</th>\n",
       "      <td>0.03237</td>\n",
       "      <td>0.0</td>\n",
       "      <td>2.18</td>\n",
       "      <td>0.0</td>\n",
       "      <td>0.458</td>\n",
       "      <td>6.998</td>\n",
       "      <td>45.8</td>\n",
       "      <td>6.0622</td>\n",
       "      <td>3.0</td>\n",
       "      <td>222.0</td>\n",
       "      <td>18.7</td>\n",
       "      <td>394.63</td>\n",
       "      <td>2.94</td>\n",
       "    </tr>\n",
       "    <tr>\n",
       "      <th>4</th>\n",
       "      <td>0.06905</td>\n",
       "      <td>0.0</td>\n",
       "      <td>2.18</td>\n",
       "      <td>0.0</td>\n",
       "      <td>0.458</td>\n",
       "      <td>7.147</td>\n",
       "      <td>54.2</td>\n",
       "      <td>6.0622</td>\n",
       "      <td>3.0</td>\n",
       "      <td>222.0</td>\n",
       "      <td>18.7</td>\n",
       "      <td>396.90</td>\n",
       "      <td>5.33</td>\n",
       "    </tr>\n",
       "  </tbody>\n",
       "</table>\n",
       "</div>"
      ],
      "text/plain": [
       "      CRIM    ZN  INDUS  CHAS    NOX     RM   AGE     DIS  RAD    TAX  \\\n",
       "0  0.00632  18.0   2.31   0.0  0.538  6.575  65.2  4.0900  1.0  296.0   \n",
       "1  0.02731   0.0   7.07   0.0  0.469  6.421  78.9  4.9671  2.0  242.0   \n",
       "2  0.02729   0.0   7.07   0.0  0.469  7.185  61.1  4.9671  2.0  242.0   \n",
       "3  0.03237   0.0   2.18   0.0  0.458  6.998  45.8  6.0622  3.0  222.0   \n",
       "4  0.06905   0.0   2.18   0.0  0.458  7.147  54.2  6.0622  3.0  222.0   \n",
       "\n",
       "   PTRATIO       B  LSTAT  \n",
       "0     15.3  396.90   4.98  \n",
       "1     17.8  396.90   9.14  \n",
       "2     17.8  392.83   4.03  \n",
       "3     18.7  394.63   2.94  \n",
       "4     18.7  396.90   5.33  "
      ]
     },
     "execution_count": 2,
     "metadata": {},
     "output_type": "execute_result"
    }
   ],
   "source": [
    "X.head()"
   ]
  },
  {
   "cell_type": "code",
   "execution_count": 3,
   "metadata": {},
   "outputs": [
    {
     "data": {
      "text/html": [
       "<div>\n",
       "<style scoped>\n",
       "    .dataframe tbody tr th:only-of-type {\n",
       "        vertical-align: middle;\n",
       "    }\n",
       "\n",
       "    .dataframe tbody tr th {\n",
       "        vertical-align: top;\n",
       "    }\n",
       "\n",
       "    .dataframe thead th {\n",
       "        text-align: right;\n",
       "    }\n",
       "</style>\n",
       "<table border=\"1\" class=\"dataframe\">\n",
       "  <thead>\n",
       "    <tr style=\"text-align: right;\">\n",
       "      <th></th>\n",
       "      <th>MEDV</th>\n",
       "    </tr>\n",
       "  </thead>\n",
       "  <tbody>\n",
       "    <tr>\n",
       "      <th>0</th>\n",
       "      <td>24.0</td>\n",
       "    </tr>\n",
       "    <tr>\n",
       "      <th>1</th>\n",
       "      <td>21.6</td>\n",
       "    </tr>\n",
       "    <tr>\n",
       "      <th>2</th>\n",
       "      <td>34.7</td>\n",
       "    </tr>\n",
       "    <tr>\n",
       "      <th>3</th>\n",
       "      <td>33.4</td>\n",
       "    </tr>\n",
       "    <tr>\n",
       "      <th>4</th>\n",
       "      <td>36.2</td>\n",
       "    </tr>\n",
       "  </tbody>\n",
       "</table>\n",
       "</div>"
      ],
      "text/plain": [
       "   MEDV\n",
       "0  24.0\n",
       "1  21.6\n",
       "2  34.7\n",
       "3  33.4\n",
       "4  36.2"
      ]
     },
     "execution_count": 3,
     "metadata": {},
     "output_type": "execute_result"
    }
   ],
   "source": [
    "y.head()"
   ]
  },
  {
   "cell_type": "markdown",
   "metadata": {},
   "source": [
    "### 1. Certifique-se de que esta base está no formato adequado para o scikitlearn.\n",
    "ok, essa tarefa é tão fácil que você vai até desconfiar. Mas é preciso ter confiança sobre os dados que se usa ;)"
   ]
  },
  {
   "cell_type": "code",
   "execution_count": 33,
   "metadata": {},
   "outputs": [
    {
     "name": "stdout",
     "output_type": "stream",
     "text": [
      "<class 'pandas.core.frame.DataFrame'>\n",
      "RangeIndex: 506 entries, 0 to 505\n",
      "Data columns (total 13 columns):\n",
      " #   Column   Non-Null Count  Dtype  \n",
      "---  ------   --------------  -----  \n",
      " 0   CRIM     506 non-null    float64\n",
      " 1   ZN       506 non-null    float64\n",
      " 2   INDUS    506 non-null    float64\n",
      " 3   CHAS     506 non-null    float64\n",
      " 4   NOX      506 non-null    float64\n",
      " 5   RM       506 non-null    float64\n",
      " 6   AGE      506 non-null    float64\n",
      " 7   DIS      506 non-null    float64\n",
      " 8   RAD      506 non-null    float64\n",
      " 9   TAX      506 non-null    float64\n",
      " 10  PTRATIO  506 non-null    float64\n",
      " 11  B        506 non-null    float64\n",
      " 12  LSTAT    506 non-null    float64\n",
      "dtypes: float64(13)\n",
      "memory usage: 51.5 KB\n"
     ]
    }
   ],
   "source": [
    "X.info()"
   ]
  },
  {
   "cell_type": "markdown",
   "metadata": {},
   "source": [
    "### 2.  Visualize a matriz de correlação, e veja se aparentemente você encontra alguma variável com potencial preditivo interessante."
   ]
  },
  {
   "cell_type": "code",
   "execution_count": 30,
   "metadata": {},
   "outputs": [
    {
     "data": {
      "text/plain": [
       "<AxesSubplot:>"
      ]
     },
     "execution_count": 30,
     "metadata": {},
     "output_type": "execute_result"
    },
    {
     "data": {
      "image/png": "[encoded data removed]",
      "text/plain": [
       "<Figure size 640x480 with 2 Axes>"
      ]
     },
     "metadata": {},
     "output_type": "display_data"
    }
   ],
   "source": [
    "cmap = sns.diverging_palette(h_neg=0, h_pos=180, sep=150, center='light', as_cmap=True)\n",
    "sns.heatmap(X.corr(), center=0, cmap=cmap)"
   ]
  },
  {
   "cell_type": "code",
   "execution_count": null,
   "metadata": {},
   "outputs": [],
   "source": [
    "AGE, DIS, RAD, TAX"
   ]
  },
  {
   "cell_type": "markdown",
   "metadata": {},
   "source": [
    "### 3. Separe os dados em validação e teste"
   ]
  },
  {
   "cell_type": "code",
   "execution_count": 34,
   "metadata": {},
   "outputs": [],
   "source": [
    "X_train, X_test, y_train, y_test = train_test_split(X,  y, test_size= 0.3, random_state= 100 )"
   ]
  },
  {
   "cell_type": "markdown",
   "metadata": {},
   "source": [
    "### 4. Treine duas árvores, uma com profundidade máxima = 8, outra com profundidade máxima = 2."
   ]
  },
  {
   "cell_type": "code",
   "execution_count": 36,
   "metadata": {},
   "outputs": [],
   "source": [
    "reg_1 = DecisionTreeRegressor(max_depth=8)\n",
    "reg_1 = reg_1.fit(X_train,y_train)\n",
    "\n",
    "reg_2 = DecisionTreeRegressor(max_depth=2)\n",
    "reg_2 = reg_2.fit(X_train,y_train)"
   ]
  },
  {
   "cell_type": "markdown",
   "metadata": {},
   "source": [
    "### 5. Calcule o MSE de cada uma das árvores do item anterior para a base de treinamento e para a base de testes."
   ]
  },
  {
   "cell_type": "code",
   "execution_count": 39,
   "metadata": {},
   "outputs": [
    {
     "data": {
      "text/plain": [
       "0.7362343076547788"
      ]
     },
     "execution_count": 39,
     "metadata": {},
     "output_type": "execute_result"
    }
   ],
   "source": [
    "reg_1.score(X_test, y_test)"
   ]
  },
  {
   "cell_type": "code",
   "execution_count": 40,
   "metadata": {},
   "outputs": [
    {
     "data": {
      "text/plain": [
       "0.6116939327685114"
      ]
     },
     "execution_count": 40,
     "metadata": {},
     "output_type": "execute_result"
    }
   ],
   "source": [
    "reg_2.score(X_test, y_test)"
   ]
  },
  {
   "cell_type": "markdown",
   "metadata": {},
   "source": [
    "### 6. Com base nos resultados do item anterior, qual árvore te parece mais adequada?"
   ]
  },
  {
   "cell_type": "code",
   "execution_count": null,
   "metadata": {},
   "outputs": [],
   "source": [
    "A árvore com profundidade 8"
   ]
  },
  {
   "cell_type": "markdown",
   "metadata": {},
   "source": [
    "### 7. Faça uma visualização gráfica dessa árvore. Vamos discutir importância de variável mais adiante, mas veja a sua árvore, e pense um pouco: qual variável te parece mais \"importante\" na árvore?"
   ]
  },
  {
   "cell_type": "code",
   "execution_count": 57,
   "metadata": {},
   "outputs": [
    {
     "data": {
      "text/plain": [
       "'|--- feature_5 <= 6.95\\n|   |--- feature_12 <= 14.75\\n|   |   |--- feature_5 <= 6.55\\n|   |   |   |--- feature_12 <= 7.57\\n|   |   |   |   |--- feature_11 <= 393.29\\n|   |   |   |   |   |--- feature_7 <= 1.69\\n|   |   |   |   |   |   |--- value: [27.50]\\n|   |   |   |   |   |--- feature_7 >  1.69\\n|   |   |   |   |   |   |--- feature_10 <= 19.95\\n|   |   |   |   |   |   |   |--- feature_2 <= 4.89\\n|   |   |   |   |   |   |   |   |--- value: [22.62]\\n|   |   |   |   |   |   |   |--- feature_2 >  4.89\\n|   |   |   |   |   |   |   |   |--- value: [23.88]\\n|   |   |   |   |   |   |--- feature_10 >  19.95\\n|   |   |   |   |   |   |   |--- feature_4 <= 0.53\\n|   |   |   |   |   |   |   |   |--- value: [21.17]\\n|   |   |   |   |   |   |   |--- feature_4 >  0.53\\n|   |   |   |   |   |   |   |   |--- value: [23.10]\\n|   |   |   |   |--- feature_11 >  393.29\\n|   |   |   |   |   |--- feature_9 <= 262.00\\n|   |   |   |   |   |   |--- feature_6 <= 26.60\\n|   |   |   |   |   |   |   |--- feature_9 <= 233.00\\n|   |   |   |   |   |   |   |   |--- value: [25.20]\\n|   |   |   |   |   |   |   |--- feature_9 >  233.00\\n|   |   |   |   |   |   |   |   |--- value: [25.00]\\n|   |   |   |   |   |   |--- feature_6 >  26.60\\n|   |   |   |   |   |   |   |--- feature_5 <= 6.46\\n|   |   |   |   |   |   |   |   |--- value: [28.70]\\n|   |   |   |   |   |   |   |--- feature_5 >  6.46\\n|   |   |   |   |   |   |   |   |--- value: [29.10]\\n|   |   |   |   |   |--- feature_9 >  262.00\\n|   |   |   |   |   |   |--- feature_9 <= 332.50\\n|   |   |   |   |   |   |   |--- feature_11 <= 396.30\\n|   |   |   |   |   |   |   |   |--- value: [24.53]\\n|   |   |   |   |   |   |   |--- feature_11 >  396.30\\n|   |   |   |   |   |   |   |   |--- value: [24.93]\\n|   |   |   |   |   |   |--- feature_9 >  332.50\\n|   |   |   |   |   |   |   |--- feature_9 <= 342.50\\n|   |   |   |   |   |   |   |   |--- value: [23.20]\\n|   |   |   |   |   |   |   |--- feature_9 >  342.50\\n|   |   |   |   |   |   |   |   |--- value: [24.10]\\n|   |   |   |--- feature_12 >  7.57\\n|   |   |   |   |--- feature_9 <= 208.00\\n|   |   |   |   |   |--- feature_8 <= 2.50\\n|   |   |   |   |   |   |--- value: [20.30]\\n|   |   |   |   |   |--- feature_8 >  2.50\\n|   |   |   |   |   |   |--- feature_6 <= 65.50\\n|   |   |   |   |   |   |   |--- value: [36.20]\\n|   |   |   |   |   |   |--- feature_6 >  65.50\\n|   |   |   |   |   |   |   |--- value: [29.60]\\n|   |   |   |   |--- feature_9 >  208.00\\n|   |   |   |   |   |--- feature_10 <= 20.95\\n|   |   |   |   |   |   |--- feature_7 <= 1.40\\n|   |   |   |   |   |   |   |--- value: [27.90]\\n|   |   |   |   |   |   |--- feature_7 >  1.40\\n|   |   |   |   |   |   |   |--- feature_5 <= 6.06\\n|   |   |   |   |   |   |   |   |--- value: [20.41]\\n|   |   |   |   |   |   |   |--- feature_5 >  6.06\\n|   |   |   |   |   |   |   |   |--- value: [21.66]\\n|   |   |   |   |   |--- feature_10 >  20.95\\n|   |   |   |   |   |   |--- feature_12 <= 7.97\\n|   |   |   |   |   |   |   |--- value: [11.90]\\n|   |   |   |   |   |   |--- feature_12 >  7.97\\n|   |   |   |   |   |   |   |--- feature_12 <= 13.60\\n|   |   |   |   |   |   |   |   |--- value: [19.79]\\n|   |   |   |   |   |   |   |--- feature_12 >  13.60\\n|   |   |   |   |   |   |   |   |--- value: [17.30]\\n|   |   |--- feature_5 >  6.55\\n|   |   |   |--- feature_7 <= 1.68\\n|   |   |   |   |--- value: [50.00]\\n|   |   |   |--- feature_7 >  1.68\\n|   |   |   |   |--- feature_9 <= 269.00\\n|   |   |   |   |   |--- feature_10 <= 18.35\\n|   |   |   |   |   |   |--- feature_11 <= 392.41\\n|   |   |   |   |   |   |   |--- feature_2 <= 3.45\\n|   |   |   |   |   |   |   |   |--- value: [29.10]\\n|   |   |   |   |   |   |   |--- feature_2 >  3.45\\n|   |   |   |   |   |   |   |   |--- value: [30.10]\\n|   |   |   |   |   |   |--- feature_11 >  392.41\\n|   |   |   |   |   |   |   |--- feature_4 <= 0.44\\n|   |   |   |   |   |   |   |   |--- value: [31.17]\\n|   |   |   |   |   |   |   |--- feature_4 >  0.44\\n|   |   |   |   |   |   |   |   |--- value: [32.50]\\n|   |   |   |   |   |--- feature_10 >  18.35\\n|   |   |   |   |   |   |--- feature_1 <= 16.50\\n|   |   |   |   |   |   |   |--- value: [26.60]\\n|   |   |   |   |   |   |--- feature_1 >  16.50\\n|   |   |   |   |   |   |   |--- feature_6 <= 25.65\\n|   |   |   |   |   |   |   |   |--- value: [27.90]\\n|   |   |   |   |   |   |   |--- feature_6 >  25.65\\n|   |   |   |   |   |   |   |   |--- value: [28.37]\\n|   |   |   |   |--- feature_9 >  269.00\\n|   |   |   |   |   |--- feature_7 <= 3.94\\n|   |   |   |   |   |   |--- feature_10 <= 18.20\\n|   |   |   |   |   |   |   |--- feature_11 <= 393.32\\n|   |   |   |   |   |   |   |   |--- value: [28.40]\\n|   |   |   |   |   |   |   |--- feature_11 >  393.32\\n|   |   |   |   |   |   |   |   |--- value: [31.05]\\n|   |   |   |   |   |   |--- feature_10 >  18.20\\n|   |   |   |   |   |   |   |--- feature_2 <= 9.23\\n|   |   |   |   |   |   |   |   |--- value: [27.00]\\n|   |   |   |   |   |   |   |--- feature_2 >  9.23\\n|   |   |   |   |   |   |   |   |--- value: [23.17]\\n|   |   |   |   |   |--- feature_7 >  3.94\\n|   |   |   |   |   |   |--- feature_6 <= 37.45\\n|   |   |   |   |   |   |   |--- feature_11 <= 393.38\\n|   |   |   |   |   |   |   |   |--- value: [25.70]\\n|   |   |   |   |   |   |   |--- feature_11 >  393.38\\n|   |   |   |   |   |   |   |   |--- value: [28.30]\\n|   |   |   |   |   |   |--- feature_6 >  37.45\\n|   |   |   |   |   |   |   |--- feature_0 <= 0.12\\n|   |   |   |   |   |   |   |   |--- value: [23.43]\\n|   |   |   |   |   |   |   |--- feature_0 >  0.12\\n|   |   |   |   |   |   |   |   |--- value: [25.05]\\n|   |--- feature_12 >  14.75\\n|   |   |--- feature_0 <= 6.03\\n|   |   |   |--- feature_0 <= 0.61\\n|   |   |   |   |--- feature_6 <= 94.05\\n|   |   |   |   |   |--- feature_6 <= 55.90\\n|   |   |   |   |   |   |--- feature_11 <= 369.71\\n|   |   |   |   |   |   |   |--- value: [23.70]\\n|   |   |   |   |   |   |--- feature_11 >  369.71\\n|   |   |   |   |   |   |   |--- feature_12 <= 15.87\\n|   |   |   |   |   |   |   |   |--- value: [21.70]\\n|   |   |   |   |   |   |   |--- feature_12 >  15.87\\n|   |   |   |   |   |   |   |   |--- value: [22.40]\\n|   |   |   |   |   |--- feature_6 >  55.90\\n|   |   |   |   |   |   |--- feature_4 <= 0.58\\n|   |   |   |   |   |   |   |--- feature_2 <= 10.30\\n|   |   |   |   |   |   |   |   |--- value: [18.70]\\n|   |   |   |   |   |   |   |--- feature_2 >  10.30\\n|   |   |   |   |   |   |   |   |--- value: [20.97]\\n|   |   |   |   |   |   |--- feature_4 >  0.58\\n|   |   |   |   |   |   |   |--- feature_2 <= 18.71\\n|   |   |   |   |   |   |   |   |--- value: [17.50]\\n|   |   |   |   |   |   |   |--- feature_2 >  18.71\\n|   |   |   |   |   |   |   |   |--- value: [15.20]\\n|   |   |   |   |--- feature_6 >  94.05\\n|   |   |   |   |   |--- feature_11 <= 393.28\\n|   |   |   |   |   |   |--- feature_5 <= 5.86\\n|   |   |   |   |   |   |   |--- feature_5 <= 5.77\\n|   |   |   |   |   |   |   |   |--- value: [16.13]\\n|   |   |   |   |   |   |   |--- feature_5 >  5.77\\n|   |   |   |   |   |   |   |   |--- value: [17.30]\\n|   |   |   |   |   |   |--- feature_5 >  5.86\\n|   |   |   |   |   |   |   |--- feature_7 <= 4.11\\n|   |   |   |   |   |   |   |   |--- value: [13.45]\\n|   |   |   |   |   |   |   |--- feature_7 >  4.11\\n|   |   |   |   |   |   |   |   |--- value: [15.00]\\n|   |   |   |   |   |--- feature_11 >  393.28\\n|   |   |   |   |   |   |--- feature_7 <= 4.87\\n|   |   |   |   |   |   |   |--- feature_9 <= 408.00\\n|   |   |   |   |   |   |   |   |--- value: [19.75]\\n|   |   |   |   |   |   |   |--- feature_9 >  408.00\\n|   |   |   |   |   |   |   |   |--- value: [18.15]\\n|   |   |   |   |   |   |--- feature_7 >  4.87\\n|   |   |   |   |   |   |   |--- value: [14.40]\\n|   |   |   |--- feature_0 >  0.61\\n|   |   |   |   |--- feature_9 <= 551.50\\n|   |   |   |   |   |--- feature_7 <= 1.38\\n|   |   |   |   |   |   |--- value: [11.80]\\n|   |   |   |   |   |--- feature_7 >  1.38\\n|   |   |   |   |   |   |--- feature_0 <= 0.80\\n|   |   |   |   |   |   |   |--- feature_5 <= 5.87\\n|   |   |   |   |   |   |   |   |--- value: [16.60]\\n|   |   |   |   |   |   |   |--- feature_5 >  5.87\\n|   |   |   |   |   |   |   |   |--- value: [15.60]\\n|   |   |   |   |   |   |--- feature_0 >  0.80\\n|   |   |   |   |   |   |   |--- feature_2 <= 13.86\\n|   |   |   |   |   |   |   |   |--- value: [13.62]\\n|   |   |   |   |   |   |   |--- feature_2 >  13.86\\n|   |   |   |   |   |   |   |   |--- value: [15.12]\\n|   |   |   |   |--- feature_9 >  551.50\\n|   |   |   |   |   |--- feature_5 <= 6.26\\n|   |   |   |   |   |   |--- feature_6 <= 83.25\\n|   |   |   |   |   |   |   |--- value: [23.20]\\n|   |   |   |   |   |   |--- feature_6 >  83.25\\n|   |   |   |   |   |   |   |--- feature_12 <= 16.44\\n|   |   |   |   |   |   |   |   |--- value: [19.90]\\n|   |   |   |   |   |   |   |--- feature_12 >  16.44\\n|   |   |   |   |   |   |   |   |--- value: [18.40]\\n|   |   |   |   |   |--- feature_5 >  6.26\\n|   |   |   |   |   |   |--- feature_6 <= 88.95\\n|   |   |   |   |   |   |   |--- feature_6 <= 87.20\\n|   |   |   |   |   |   |   |   |--- value: [14.10]\\n|   |   |   |   |   |   |   |--- feature_6 >  87.20\\n|   |   |   |   |   |   |   |   |--- value: [14.30]\\n|   |   |   |   |   |   |--- feature_6 >  88.95\\n|   |   |   |   |   |   |   |--- feature_6 <= 95.00\\n|   |   |   |   |   |   |   |   |--- value: [16.25]\\n|   |   |   |   |   |   |   |--- feature_6 >  95.00\\n|   |   |   |   |   |   |   |   |--- value: [15.20]\\n|   |   |--- feature_0 >  6.03\\n|   |   |   |--- feature_0 <= 10.45\\n|   |   |   |   |--- feature_4 <= 0.73\\n|   |   |   |   |   |--- feature_12 <= 25.48\\n|   |   |   |   |   |   |--- feature_7 <= 2.08\\n|   |   |   |   |   |   |   |--- feature_5 <= 5.83\\n|   |   |   |   |   |   |   |   |--- value: [11.70]\\n|   |   |   |   |   |   |   |--- feature_5 >  5.83\\n|   |   |   |   |   |   |   |   |--- value: [12.98]\\n|   |   |   |   |   |   |--- feature_7 >  2.08\\n|   |   |   |   |   |   |   |--- feature_0 <= 7.64\\n|   |   |   |   |   |   |   |   |--- value: [13.23]\\n|   |   |   |   |   |   |   |--- feature_0 >  7.64\\n|   |   |   |   |   |   |   |   |--- value: [14.40]\\n|   |   |   |   |   |--- feature_12 >  25.48\\n|   |   |   |   |   |   |--- value: [17.20]\\n|   |   |   |   |--- feature_4 >  0.73\\n|   |   |   |   |   |--- feature_11 <= 386.35\\n|   |   |   |   |   |   |--- feature_11 <= 381.85\\n|   |   |   |   |   |   |   |--- value: [17.80]\\n|   |   |   |   |   |   |--- feature_11 >  381.85\\n|   |   |   |   |   |   |   |--- value: [17.10]\\n|   |   |   |   |   |--- feature_11 >  386.35\\n|   |   |   |   |   |   |--- value: [15.40]\\n|   |   |   |--- feature_0 >  10.45\\n|   |   |   |   |--- feature_4 <= 0.68\\n|   |   |   |   |   |--- feature_6 <= 76.50\\n|   |   |   |   |   |   |--- value: [10.20]\\n|   |   |   |   |   |--- feature_6 >  76.50\\n|   |   |   |   |   |   |--- feature_7 <= 1.46\\n|   |   |   |   |   |   |   |--- feature_4 <= 0.66\\n|   |   |   |   |   |   |   |   |--- value: [11.90]\\n|   |   |   |   |   |   |   |--- feature_4 >  0.66\\n|   |   |   |   |   |   |   |   |--- value: [13.65]\\n|   |   |   |   |   |   |--- feature_7 >  1.46\\n|   |   |   |   |   |   |   |--- feature_0 <= 23.73\\n|   |   |   |   |   |   |   |   |--- value: [17.55]\\n|   |   |   |   |   |   |   |--- feature_0 >  23.73\\n|   |   |   |   |   |   |   |   |--- value: [16.30]\\n|   |   |   |   |--- feature_4 >  0.68\\n|   |   |   |   |   |--- feature_0 <= 15.62\\n|   |   |   |   |   |   |--- feature_6 <= 93.95\\n|   |   |   |   |   |   |   |--- feature_0 <= 14.05\\n|   |   |   |   |   |   |   |   |--- value: [8.10]\\n|   |   |   |   |   |   |   |--- feature_0 >  14.05\\n|   |   |   |   |   |   |   |   |--- value: [9.60]\\n|   |   |   |   |   |   |--- feature_6 >  93.95\\n|   |   |   |   |   |   |   |--- feature_5 <= 5.87\\n|   |   |   |   |   |   |   |   |--- value: [10.23]\\n|   |   |   |   |   |   |   |--- feature_5 >  5.87\\n|   |   |   |   |   |   |   |   |--- value: [12.63]\\n|   |   |   |   |   |--- feature_0 >  15.62\\n|   |   |   |   |   |   |--- feature_5 <= 5.40\\n|   |   |   |   |   |   |   |--- feature_12 <= 29.55\\n|   |   |   |   |   |   |   |   |--- value: [9.73]\\n|   |   |   |   |   |   |   |--- feature_12 >  29.55\\n|   |   |   |   |   |   |   |   |--- value: [7.20]\\n|   |   |   |   |   |   |--- feature_5 >  5.40\\n|   |   |   |   |   |   |   |--- feature_4 <= 0.69\\n|   |   |   |   |   |   |   |   |--- value: [8.00]\\n|   |   |   |   |   |   |   |--- feature_4 >  0.69\\n|   |   |   |   |   |   |   |   |--- value: [5.20]\\n|--- feature_5 >  6.95\\n|   |--- feature_5 <= 7.44\\n|   |   |--- feature_12 <= 12.55\\n|   |   |   |--- feature_7 <= 1.55\\n|   |   |   |   |--- value: [50.00]\\n|   |   |   |--- feature_7 >  1.55\\n|   |   |   |   |--- feature_4 <= 0.49\\n|   |   |   |   |   |--- feature_4 <= 0.40\\n|   |   |   |   |   |   |--- feature_5 <= 7.06\\n|   |   |   |   |   |   |   |--- value: [29.00]\\n|   |   |   |   |   |   |--- feature_5 >  7.06\\n|   |   |   |   |   |   |   |--- value: [32.20]\\n|   |   |   |   |   |--- feature_4 >  0.40\\n|   |   |   |   |   |   |--- feature_5 <= 7.25\\n|   |   |   |   |   |   |   |--- feature_0 <= 0.02\\n|   |   |   |   |   |   |   |   |--- value: [32.95]\\n|   |   |   |   |   |   |   |--- feature_0 >  0.02\\n|   |   |   |   |   |   |   |   |--- value: [35.92]\\n|   |   |   |   |   |   |--- feature_5 >  7.25\\n|   |   |   |   |   |   |   |--- feature_2 <= 2.54\\n|   |   |   |   |   |   |   |   |--- value: [33.35]\\n|   |   |   |   |   |   |   |--- feature_2 >  2.54\\n|   |   |   |   |   |   |   |   |--- value: [33.20]\\n|   |   |   |   |--- feature_4 >  0.49\\n|   |   |   |   |   |--- feature_5 <= 7.12\\n|   |   |   |   |   |   |--- feature_6 <= 72.30\\n|   |   |   |   |   |   |   |--- feature_0 <= 2.35\\n|   |   |   |   |   |   |   |   |--- value: [28.70]\\n|   |   |   |   |   |   |   |--- feature_0 >  2.35\\n|   |   |   |   |   |   |   |   |--- value: [29.80]\\n|   |   |   |   |   |   |--- feature_6 >  72.30\\n|   |   |   |   |   |   |   |--- feature_5 <= 6.96\\n|   |   |   |   |   |   |   |   |--- value: [26.70]\\n|   |   |   |   |   |   |   |--- feature_5 >  6.96\\n|   |   |   |   |   |   |   |   |--- value: [24.17]\\n|   |   |   |   |   |--- feature_5 >  7.12\\n|   |   |   |   |   |   |--- feature_7 <= 2.00\\n|   |   |   |   |   |   |   |--- feature_0 <= 0.61\\n|   |   |   |   |   |   |   |   |--- value: [36.50]\\n|   |   |   |   |   |   |   |--- feature_0 >  0.61\\n|   |   |   |   |   |   |   |   |--- value: [36.00]\\n|   |   |   |   |   |   |--- feature_7 >  2.00\\n|   |   |   |   |   |   |   |--- feature_2 <= 5.08\\n|   |   |   |   |   |   |   |   |--- value: [31.00]\\n|   |   |   |   |   |   |   |--- feature_2 >  5.08\\n|   |   |   |   |   |   |   |   |--- value: [31.60]\\n|   |   |--- feature_12 >  12.55\\n|   |   |   |--- feature_11 <= 386.38\\n|   |   |   |   |--- value: [17.80]\\n|   |   |   |--- feature_11 >  386.38\\n|   |   |   |   |--- value: [15.00]\\n|   |--- feature_5 >  7.44\\n|   |   |--- feature_11 <= 364.49\\n|   |   |   |--- value: [21.90]\\n|   |   |--- feature_11 >  364.49\\n|   |   |   |--- feature_12 <= 6.24\\n|   |   |   |   |--- feature_4 <= 0.59\\n|   |   |   |   |   |--- feature_0 <= 0.35\\n|   |   |   |   |   |   |--- feature_5 <= 7.83\\n|   |   |   |   |   |   |   |--- feature_4 <= 0.43\\n|   |   |   |   |   |   |   |   |--- value: [43.15]\\n|   |   |   |   |   |   |   |--- feature_4 >  0.43\\n|   |   |   |   |   |   |   |   |--- value: [46.05]\\n|   |   |   |   |   |   |--- feature_5 >  7.83\\n|   |   |   |   |   |   |   |--- feature_6 <= 74.35\\n|   |   |   |   |   |   |   |   |--- value: [49.58]\\n|   |   |   |   |   |   |   |--- feature_6 >  74.35\\n|   |   |   |   |   |   |   |   |--- value: [44.80]\\n|   |   |   |   |   |--- feature_0 >  0.35\\n|   |   |   |   |   |   |--- feature_6 <= 79.90\\n|   |   |   |   |   |   |   |--- feature_12 <= 2.82\\n|   |   |   |   |   |   |   |   |--- value: [41.70]\\n|   |   |   |   |   |   |   |--- feature_12 >  2.82\\n|   |   |   |   |   |   |   |   |--- value: [43.15]\\n|   |   |   |   |   |   |--- feature_6 >  79.90\\n|   |   |   |   |   |   |   |--- value: [37.60]\\n|   |   |   |   |--- feature_4 >  0.59\\n|   |   |   |   |   |--- feature_12 <= 5.51\\n|   |   |   |   |   |   |--- value: [50.00]\\n|   |   |   |   |   |--- feature_12 >  5.51\\n|   |   |   |   |   |   |--- value: [48.80]\\n|   |   |   |--- feature_12 >  6.24\\n|   |   |   |   |--- feature_10 <= 18.20\\n|   |   |   |   |   |--- feature_12 <= 7.41\\n|   |   |   |   |   |   |--- value: [43.10]\\n|   |   |   |   |   |--- feature_12 >  7.41\\n|   |   |   |   |   |   |--- value: [39.80]\\n|   |   |   |   |--- feature_10 >  18.20\\n|   |   |   |   |   |--- value: [35.20]\\n'"
      ]
     },
     "execution_count": 57,
     "metadata": {},
     "output_type": "execute_result"
    }
   ],
   "source": [
    "tree.export_text(reg_1)"
   ]
  },
  {
   "cell_type": "code",
   "execution_count": null,
   "metadata": {},
   "outputs": [],
   "source": []
  }
 ],
 "metadata": {
  "kernelspec": {
   "display_name": "Python 3 (ipykernel)",
   "language": "python",
   "name": "python3"
  },
  "language_info": {
   "codemirror_mode": {
    "name": "ipython",
    "version": 3
   },
   "file_extension": ".py",
   "mimetype": "text/x-python",
   "name": "python",
   "nbconvert_exporter": "python",
   "pygments_lexer": "ipython3",
   "version": "3.9.13"
  }
 },
 "nbformat": 4,
 "nbformat_minor": 4
}
